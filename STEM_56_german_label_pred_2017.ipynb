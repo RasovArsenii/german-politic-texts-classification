{
 "cells": [
  {
   "cell_type": "code",
   "execution_count": 1,
   "metadata": {},
   "outputs": [],
   "source": [
    "import pandas as pd\n",
    "import numpy as np\n",
    "import gensim\n",
    "import gensim.corpora as corpora\n",
    "from gensim.utils import simple_preprocess\n",
    "from nltk.corpus import stopwords\n",
    "import spacy\n",
    "from nltk.stem import PorterStemmer"
   ]
  },
  {
   "cell_type": "markdown",
   "metadata": {},
   "source": [
    "### Считываем данные"
   ]
  },
  {
   "cell_type": "code",
   "execution_count": 4,
   "metadata": {},
   "outputs": [
    {
     "name": "stderr",
     "output_type": "stream",
     "text": [
      "/Users/yuser/anaconda3/lib/python3.6/site-packages/ipykernel_launcher.py:1: ParserWarning: Falling back to the 'python' engine because the 'c' engine does not support regex separators (separators > 1 char and different from '\\s+' are interpreted as regex); you can avoid this warning by specifying engine='python'.\n",
      "  \"\"\"Entry point for launching an IPython kernel.\n"
     ]
    },
    {
     "name": "stdout",
     "output_type": "stream",
     "text": [
      "(125421, 5)\n"
     ]
    },
    {
     "data": {
      "text/html": [
       "<div>\n",
       "<style scoped>\n",
       "    .dataframe tbody tr th:only-of-type {\n",
       "        vertical-align: middle;\n",
       "    }\n",
       "\n",
       "    .dataframe tbody tr th {\n",
       "        vertical-align: top;\n",
       "    }\n",
       "\n",
       "    .dataframe thead th {\n",
       "        text-align: right;\n",
       "    }\n",
       "</style>\n",
       "<table border=\"1\" class=\"dataframe\">\n",
       "  <thead>\n",
       "    <tr style=\"text-align: right;\">\n",
       "      <th></th>\n",
       "      <th>date</th>\n",
       "      <th>country</th>\n",
       "      <th>party</th>\n",
       "      <th>text</th>\n",
       "      <th>code</th>\n",
       "    </tr>\n",
       "  </thead>\n",
       "  <tbody>\n",
       "    <tr>\n",
       "      <th>0</th>\n",
       "      <td>200406</td>\n",
       "      <td>Luxembourg</td>\n",
       "      <td>Socialist Workers’ Party of Luxembourg</td>\n",
       "      <td>Liebe Wählerinnen, liebe Wähler,</td>\n",
       "      <td>NaN</td>\n",
       "    </tr>\n",
       "    <tr>\n",
       "      <th>1</th>\n",
       "      <td>200406</td>\n",
       "      <td>Luxembourg</td>\n",
       "      <td>Socialist Workers’ Party of Luxembourg</td>\n",
       "      <td>dieses Wahlprogramm haben wir für Sie geschrie...</td>\n",
       "      <td>NaN</td>\n",
       "    </tr>\n",
       "    <tr>\n",
       "      <th>2</th>\n",
       "      <td>200406</td>\n",
       "      <td>Luxembourg</td>\n",
       "      <td>Socialist Workers’ Party of Luxembourg</td>\n",
       "      <td>Grüne Ideen stehen für eine andere Politik, di...</td>\n",
       "      <td>NaN</td>\n",
       "    </tr>\n",
       "    <tr>\n",
       "      <th>3</th>\n",
       "      <td>200406</td>\n",
       "      <td>Luxembourg</td>\n",
       "      <td>Socialist Workers’ Party of Luxembourg</td>\n",
       "      <td>Wir wollen Luxemburg zu einer offeneren Gesell...</td>\n",
       "      <td>NaN</td>\n",
       "    </tr>\n",
       "    <tr>\n",
       "      <th>4</th>\n",
       "      <td>200406</td>\n",
       "      <td>Luxembourg</td>\n",
       "      <td>Socialist Workers’ Party of Luxembourg</td>\n",
       "      <td>Dieses Programm ist ein Kompass, der die Orien...</td>\n",
       "      <td>NaN</td>\n",
       "    </tr>\n",
       "  </tbody>\n",
       "</table>\n",
       "</div>"
      ],
      "text/plain": [
       "     date     country                                   party  \\\n",
       "0  200406  Luxembourg  Socialist Workers’ Party of Luxembourg   \n",
       "1  200406  Luxembourg  Socialist Workers’ Party of Luxembourg   \n",
       "2  200406  Luxembourg  Socialist Workers’ Party of Luxembourg   \n",
       "3  200406  Luxembourg  Socialist Workers’ Party of Luxembourg   \n",
       "4  200406  Luxembourg  Socialist Workers’ Party of Luxembourg   \n",
       "\n",
       "                                                text code  \n",
       "0                   Liebe Wählerinnen, liebe Wähler,  NaN  \n",
       "1  dieses Wahlprogramm haben wir für Sie geschrie...  NaN  \n",
       "2  Grüne Ideen stehen für eine andere Politik, di...  NaN  \n",
       "3  Wir wollen Luxemburg zu einer offeneren Gesell...  NaN  \n",
       "4  Dieses Programm ist ein Kompass, der die Orien...  NaN  "
      ]
     },
     "execution_count": 4,
     "metadata": {},
     "output_type": "execute_result"
    }
   ],
   "source": [
    "data = pd.read_csv('german_labeled.txt', sep=' ==> ', header=None)\n",
    "data.columns = ['date', 'country', 'party', 'text', 'code']\n",
    "print(data.shape)\n",
    "data.head()"
   ]
  },
  {
   "cell_type": "code",
   "execution_count": 45,
   "metadata": {},
   "outputs": [
    {
     "data": {
      "text/plain": [
       "(56,)"
      ]
     },
     "execution_count": 45,
     "metadata": {},
     "output_type": "execute_result"
    }
   ],
   "source": [
    "data.code.unique().shape"
   ]
  },
  {
   "cell_type": "markdown",
   "metadata": {},
   "source": [
    "Приведем лейблы к целочисленной форме (отбросим часть после точки, где надо). Классы с нестандартной разметкой типа \"0\", \"000\", \"H\" удалим."
   ]
  },
  {
   "cell_type": "code",
   "execution_count": 5,
   "metadata": {},
   "outputs": [
    {
     "data": {
      "text/plain": [
       "(56,)"
      ]
     },
     "execution_count": 5,
     "metadata": {},
     "output_type": "execute_result"
    }
   ],
   "source": [
    "data = data[data.text.notnull()]\n",
    "data = data[(data.code!='0')&(data.code!='000')&(data.code!='H')&(data.code.notnull())]\n",
    "data['code'] = data.code.apply(lambda x: int(float(x)))\n",
    "data.code.unique().shape"
   ]
  },
  {
   "cell_type": "code",
   "execution_count": 6,
   "metadata": {},
   "outputs": [
    {
     "data": {
      "text/plain": [
       "array([202, 503, 304, 201, 705, 706, 301, 204, 303, 411, 504, 505, 606,\n",
       "       506, 401, 108, 604, 605, 607, 608, 110, 107, 302, 403, 416, 501,\n",
       "       414, 305, 409, 703, 402, 701, 404, 405, 408, 601, 410, 603, 507,\n",
       "       412, 502, 413, 104, 103, 106, 105, 407, 406, 704, 203, 415, 702,\n",
       "       109, 101, 602, 102])"
      ]
     },
     "execution_count": 6,
     "metadata": {},
     "output_type": "execute_result"
    }
   ],
   "source": [
    "data.code.unique()"
   ]
  },
  {
   "cell_type": "markdown",
   "metadata": {},
   "source": [
    "Напишем функции для токенизации, удаления стоп-слов, стемминга."
   ]
  },
  {
   "cell_type": "code",
   "execution_count": 7,
   "metadata": {},
   "outputs": [],
   "source": [
    "def sent_to_words(sentences):\n",
    "    for sentence in sentences:\n",
    "        yield(gensim.utils.simple_preprocess(str(sentence), deacc=True))\n",
    "\n",
    "def remove_stopwords(texts):\n",
    "    return [[word for word in simple_preprocess(str(doc)) if word not in stop_words] for doc in texts]\n",
    "\n",
    "def stemming(text):\n",
    "    out = []\n",
    "    for word in text:\n",
    "        out.append(PorterStemmer().stem(word))\n",
    "    return out"
   ]
  },
  {
   "cell_type": "markdown",
   "metadata": {},
   "source": [
    "Загрузим стоп-слова в переменную stop_words."
   ]
  },
  {
   "cell_type": "code",
   "execution_count": 8,
   "metadata": {},
   "outputs": [],
   "source": [
    "stop_words = stopwords.words('german')"
   ]
  },
  {
   "cell_type": "markdown",
   "metadata": {},
   "source": [
    "Сделаем токенизацию."
   ]
  },
  {
   "cell_type": "code",
   "execution_count": 9,
   "metadata": {},
   "outputs": [
    {
     "data": {
      "text/html": [
       "<div>\n",
       "<style scoped>\n",
       "    .dataframe tbody tr th:only-of-type {\n",
       "        vertical-align: middle;\n",
       "    }\n",
       "\n",
       "    .dataframe tbody tr th {\n",
       "        vertical-align: top;\n",
       "    }\n",
       "\n",
       "    .dataframe thead th {\n",
       "        text-align: right;\n",
       "    }\n",
       "</style>\n",
       "<table border=\"1\" class=\"dataframe\">\n",
       "  <thead>\n",
       "    <tr style=\"text-align: right;\">\n",
       "      <th></th>\n",
       "      <th>date</th>\n",
       "      <th>country</th>\n",
       "      <th>party</th>\n",
       "      <th>text</th>\n",
       "      <th>code</th>\n",
       "    </tr>\n",
       "  </thead>\n",
       "  <tbody>\n",
       "    <tr>\n",
       "      <th>12</th>\n",
       "      <td>200406</td>\n",
       "      <td>Luxembourg</td>\n",
       "      <td>Socialist Workers’ Party of Luxembourg</td>\n",
       "      <td>[wir, wollen, in, einer, modernen, gesellschaf...</td>\n",
       "      <td>202</td>\n",
       "    </tr>\n",
       "    <tr>\n",
       "      <th>13</th>\n",
       "      <td>200406</td>\n",
       "      <td>Luxembourg</td>\n",
       "      <td>Socialist Workers’ Party of Luxembourg</td>\n",
       "      <td>[wir, wollen, eine, offene, gesellschaft, die,...</td>\n",
       "      <td>503</td>\n",
       "    </tr>\n",
       "    <tr>\n",
       "      <th>14</th>\n",
       "      <td>200406</td>\n",
       "      <td>Luxembourg</td>\n",
       "      <td>Socialist Workers’ Party of Luxembourg</td>\n",
       "      <td>[wir, wollen, unsere, demokratie, wiederbeleben]</td>\n",
       "      <td>202</td>\n",
       "    </tr>\n",
       "    <tr>\n",
       "      <th>15</th>\n",
       "      <td>200406</td>\n",
       "      <td>Luxembourg</td>\n",
       "      <td>Socialist Workers’ Party of Luxembourg</td>\n",
       "      <td>[das, beginnt, damit, dass, offentliche, verwa...</td>\n",
       "      <td>202</td>\n",
       "    </tr>\n",
       "    <tr>\n",
       "      <th>16</th>\n",
       "      <td>200406</td>\n",
       "      <td>Luxembourg</td>\n",
       "      <td>Socialist Workers’ Party of Luxembourg</td>\n",
       "      <td>[wir, diese, starker, in, politische, entschei...</td>\n",
       "      <td>202</td>\n",
       "    </tr>\n",
       "  </tbody>\n",
       "</table>\n",
       "</div>"
      ],
      "text/plain": [
       "      date     country                                   party  \\\n",
       "12  200406  Luxembourg  Socialist Workers’ Party of Luxembourg   \n",
       "13  200406  Luxembourg  Socialist Workers’ Party of Luxembourg   \n",
       "14  200406  Luxembourg  Socialist Workers’ Party of Luxembourg   \n",
       "15  200406  Luxembourg  Socialist Workers’ Party of Luxembourg   \n",
       "16  200406  Luxembourg  Socialist Workers’ Party of Luxembourg   \n",
       "\n",
       "                                                 text  code  \n",
       "12  [wir, wollen, in, einer, modernen, gesellschaf...   202  \n",
       "13  [wir, wollen, eine, offene, gesellschaft, die,...   503  \n",
       "14   [wir, wollen, unsere, demokratie, wiederbeleben]   202  \n",
       "15  [das, beginnt, damit, dass, offentliche, verwa...   202  \n",
       "16  [wir, diese, starker, in, politische, entschei...   202  "
      ]
     },
     "execution_count": 9,
     "metadata": {},
     "output_type": "execute_result"
    }
   ],
   "source": [
    "data['text'] = list(sent_to_words(data.text))\n",
    "data.head()"
   ]
  },
  {
   "cell_type": "markdown",
   "metadata": {},
   "source": [
    "Сделаем стемминг, результатами заменим содержание столбца 'text'."
   ]
  },
  {
   "cell_type": "code",
   "execution_count": 10,
   "metadata": {},
   "outputs": [
    {
     "data": {
      "text/plain": [
       "12    [wir, wollen, in, einer, modernen, gesellschaf...\n",
       "13    [wir, wollen, ein, offen, gesellschaft, die, a...\n",
       "14       [wir, wollen, unser, demokrati, wiederbeleben]\n",
       "15    [da, beginnt, damit, dass, offentlich, verwalt...\n",
       "16    [wir, dies, starker, in, politisch, entscheidu...\n",
       "17    [wir, mochten, auch, die, angestaubten, politi...\n",
       "18    [die, letzten, monat, haben, die, politisch, l...\n",
       "19    [die, burgerinnen, und, burger, luxemburg, suc...\n",
       "20    [politik, braucht, ideal, wert, und, ziel, dam...\n",
       "21    [regierend, die, sich, zu, sehr, vom, alltag, ...\n",
       "22    [deshalb, wollen, wir, die, demokrati, starken...\n",
       "24    [dei, greng, wollen, da, vertrauen, der, burge...\n",
       "25    [politisch, verantwortung, darf, nicht, zu, ei...\n",
       "26    [institutionen, und, verwaltungen, sollen, der...\n",
       "27    [wir, wollen, mehr, transparenz, und, effizien...\n",
       "Name: text, dtype: object"
      ]
     },
     "execution_count": 10,
     "metadata": {},
     "output_type": "execute_result"
    }
   ],
   "source": [
    "data['text'] = data.text.apply(stemming)\n",
    "data.text.head(15)"
   ]
  },
  {
   "cell_type": "markdown",
   "metadata": {},
   "source": [
    "Удалим стоп-слова."
   ]
  },
  {
   "cell_type": "code",
   "execution_count": 11,
   "metadata": {},
   "outputs": [
    {
     "data": {
      "text/html": [
       "<div>\n",
       "<style scoped>\n",
       "    .dataframe tbody tr th:only-of-type {\n",
       "        vertical-align: middle;\n",
       "    }\n",
       "\n",
       "    .dataframe tbody tr th {\n",
       "        vertical-align: top;\n",
       "    }\n",
       "\n",
       "    .dataframe thead th {\n",
       "        text-align: right;\n",
       "    }\n",
       "</style>\n",
       "<table border=\"1\" class=\"dataframe\">\n",
       "  <thead>\n",
       "    <tr style=\"text-align: right;\">\n",
       "      <th></th>\n",
       "      <th>date</th>\n",
       "      <th>country</th>\n",
       "      <th>party</th>\n",
       "      <th>text</th>\n",
       "      <th>code</th>\n",
       "    </tr>\n",
       "  </thead>\n",
       "  <tbody>\n",
       "    <tr>\n",
       "      <th>12</th>\n",
       "      <td>200406</td>\n",
       "      <td>Luxembourg</td>\n",
       "      <td>Socialist Workers’ Party of Luxembourg</td>\n",
       "      <td>[modernen, gesellschaft, starken, demokrati, l...</td>\n",
       "      <td>202</td>\n",
       "    </tr>\n",
       "    <tr>\n",
       "      <th>13</th>\n",
       "      <td>200406</td>\n",
       "      <td>Luxembourg</td>\n",
       "      <td>Socialist Workers’ Party of Luxembourg</td>\n",
       "      <td>[offen, gesellschaft, all, gleichermaßen, einb...</td>\n",
       "      <td>503</td>\n",
       "    </tr>\n",
       "    <tr>\n",
       "      <th>14</th>\n",
       "      <td>200406</td>\n",
       "      <td>Luxembourg</td>\n",
       "      <td>Socialist Workers’ Party of Luxembourg</td>\n",
       "      <td>[demokrati, wiederbeleben]</td>\n",
       "      <td>202</td>\n",
       "    </tr>\n",
       "    <tr>\n",
       "      <th>15</th>\n",
       "      <td>200406</td>\n",
       "      <td>Luxembourg</td>\n",
       "      <td>Socialist Workers’ Party of Luxembourg</td>\n",
       "      <td>[beginnt, dass, offentlich, verwaltungen, dien...</td>\n",
       "      <td>202</td>\n",
       "    </tr>\n",
       "    <tr>\n",
       "      <th>16</th>\n",
       "      <td>200406</td>\n",
       "      <td>Luxembourg</td>\n",
       "      <td>Socialist Workers’ Party of Luxembourg</td>\n",
       "      <td>[starker, politisch, entscheidungen, einbinden]</td>\n",
       "      <td>202</td>\n",
       "    </tr>\n",
       "  </tbody>\n",
       "</table>\n",
       "</div>"
      ],
      "text/plain": [
       "      date     country                                   party  \\\n",
       "12  200406  Luxembourg  Socialist Workers’ Party of Luxembourg   \n",
       "13  200406  Luxembourg  Socialist Workers’ Party of Luxembourg   \n",
       "14  200406  Luxembourg  Socialist Workers’ Party of Luxembourg   \n",
       "15  200406  Luxembourg  Socialist Workers’ Party of Luxembourg   \n",
       "16  200406  Luxembourg  Socialist Workers’ Party of Luxembourg   \n",
       "\n",
       "                                                 text  code  \n",
       "12  [modernen, gesellschaft, starken, demokrati, l...   202  \n",
       "13  [offen, gesellschaft, all, gleichermaßen, einb...   503  \n",
       "14                         [demokrati, wiederbeleben]   202  \n",
       "15  [beginnt, dass, offentlich, verwaltungen, dien...   202  \n",
       "16    [starker, politisch, entscheidungen, einbinden]   202  "
      ]
     },
     "execution_count": 11,
     "metadata": {},
     "output_type": "execute_result"
    }
   ],
   "source": [
    "data['text'] = remove_stopwords(data['text'])\n",
    "data.head()"
   ]
  },
  {
   "cell_type": "markdown",
   "metadata": {},
   "source": [
    "Удалим опустевшие после проделанных операций строки таблицы"
   ]
  },
  {
   "cell_type": "code",
   "execution_count": 12,
   "metadata": {},
   "outputs": [],
   "source": [
    "data = data[data.text.apply(tuple)!=()]"
   ]
  },
  {
   "cell_type": "markdown",
   "metadata": {},
   "source": [
    "Создадим словарь, ключами в котором будут лейблы, а значениями – объединенные списки слов из относящихся к лейблу предложений."
   ]
  },
  {
   "cell_type": "code",
   "execution_count": 13,
   "metadata": {},
   "outputs": [],
   "source": [
    "tag_dict = dict()\n",
    "for i in data.index:\n",
    "    if not data.code.loc[i] in tag_dict:\n",
    "        tag_dict[data.code.loc[i]] = []\n",
    "    tag_dict[data.code.loc[i]].extend(data.text.loc[i])"
   ]
  },
  {
   "cell_type": "markdown",
   "metadata": {},
   "source": [
    "Объединим списки слов в строки для использования TfidfVectorizer."
   ]
  },
  {
   "cell_type": "code",
   "execution_count": 14,
   "metadata": {},
   "outputs": [],
   "source": [
    "joined = [' '.join(x) for x in tag_dict.values()]"
   ]
  },
  {
   "cell_type": "code",
   "execution_count": 15,
   "metadata": {},
   "outputs": [],
   "source": [
    "from sklearn.feature_extraction.text import TfidfVectorizer"
   ]
  },
  {
   "cell_type": "markdown",
   "metadata": {},
   "source": [
    "Построим матрицу tf.icf."
   ]
  },
  {
   "cell_type": "code",
   "execution_count": 16,
   "metadata": {},
   "outputs": [
    {
     "data": {
      "text/plain": [
       "(56, 619022)"
      ]
     },
     "execution_count": 16,
     "metadata": {},
     "output_type": "execute_result"
    }
   ],
   "source": [
    "tfidf = TfidfVectorizer(ngram_range=(1,2))\n",
    "tfidf_data = tfidf.fit_transform(joined)\n",
    "tfidf_data.shape"
   ]
  },
  {
   "cell_type": "markdown",
   "metadata": {},
   "source": [
    "Опишем функции для взвешивания слов, согласно методу Мерца."
   ]
  },
  {
   "cell_type": "code",
   "execution_count": 17,
   "metadata": {},
   "outputs": [],
   "source": [
    "def count_text(line):\n",
    "    text = data.text.loc[line]\n",
    "    res = np.zeros((1,tfidf_data.shape[1]))\n",
    "    for word in text:\n",
    "        res[0, tfidf.vocabulary_[word]] += 1\n",
    "    return res"
   ]
  },
  {
   "cell_type": "code",
   "execution_count": 18,
   "metadata": {},
   "outputs": [],
   "source": [
    "def vectorizing(line):\n",
    "    res = 1/2 * count_text(line)\n",
    "    if (line - 1) in data.index and data.party.loc[line] == data.party.loc[line-1] and data.date.loc[line] == data.date.loc[line-1]:\n",
    "        res += 1/6 * count_text(line-1)\n",
    "        \n",
    "        if (line - 2) in data.index and data.party.loc[line] == data.party.loc[line-2] and data.date.loc[line] == data.date.loc[line-2]:\n",
    "            res += 1/12 * count_text(line-2)\n",
    "        else: res += 1/12 * count_text(line)\n",
    "            \n",
    "    else: res += 1/4 * count_text(line)\n",
    "    if (line + 1) in data.index and data.party.loc[line] == data.party.loc[line+1] and data.date.loc[line] == data.date.loc[line+1]:\n",
    "        res += 1/6 * count_text(line+1)\n",
    "            \n",
    "        if (line + 2) in data.index and data.party.loc[line] == data.party.loc[line+2] and data.date.loc[line] == data.date.loc[line+2]:\n",
    "            res += 1/12 * count_text(line+2)\n",
    "        else: res += 1/12 * count_text(line)\n",
    "    else: res += 1/4 * count_text(line)\n",
    "    \n",
    "    return res"
   ]
  },
  {
   "cell_type": "code",
   "execution_count": 19,
   "metadata": {},
   "outputs": [],
   "source": [
    "data.index = range(data.shape[0])"
   ]
  },
  {
   "cell_type": "code",
   "execution_count": 20,
   "metadata": {},
   "outputs": [],
   "source": [
    "def final_vect(line):\n",
    "    return tfidf_data.dot(vectorizing(line).T).reshape(data.code.unique().shape[0])"
   ]
  },
  {
   "cell_type": "markdown",
   "metadata": {},
   "source": [
    "Построим векторы признаков"
   ]
  },
  {
   "cell_type": "code",
   "execution_count": 20,
   "metadata": {},
   "outputs": [
    {
     "data": {
      "text/plain": [
       "(113529, 56)"
      ]
     },
     "execution_count": 20,
     "metadata": {},
     "output_type": "execute_result"
    }
   ],
   "source": [
    "features = np.zeros((data.shape[0],tfidf_data.shape[0]))\n",
    "features.shape"
   ]
  },
  {
   "cell_type": "code",
   "execution_count": 22,
   "metadata": {},
   "outputs": [
    {
     "data": {
      "text/plain": [
       "'for i in data.index:\\n    print(i)\\n    features[i,:] = final_vect(i)\\nfeatures.shape'"
      ]
     },
     "execution_count": 22,
     "metadata": {},
     "output_type": "execute_result"
    }
   ],
   "source": [
    "\"\"\"for i in data.index:\n",
    "    print(i)\n",
    "    features[i,:] = final_vect(i)\n",
    "features.shape\"\"\""
   ]
  },
  {
   "cell_type": "markdown",
   "metadata": {},
   "source": [
    "Возьмем уже построенные векторы признаков из файла."
   ]
  },
  {
   "cell_type": "code",
   "execution_count": 57,
   "metadata": {},
   "outputs": [
    {
     "data": {
      "text/plain": [
       "(113529, 56)"
      ]
     },
     "execution_count": 57,
     "metadata": {},
     "output_type": "execute_result"
    }
   ],
   "source": [
    "features = pd.read_csv('vect_56_len_bigram.csv', header=None, sep=' ')\n",
    "features.shape"
   ]
  },
  {
   "cell_type": "markdown",
   "metadata": {},
   "source": [
    "Добавим к ним столбец с лейблами."
   ]
  },
  {
   "cell_type": "code",
   "execution_count": 59,
   "metadata": {},
   "outputs": [],
   "source": [
    "features = pd.DataFrame(features)\n",
    "features['code'] = data.code"
   ]
  },
  {
   "cell_type": "code",
   "execution_count": 58,
   "metadata": {},
   "outputs": [
    {
     "data": {
      "text/plain": [
       "0"
      ]
     },
     "execution_count": 58,
     "metadata": {},
     "output_type": "execute_result"
    }
   ],
   "source": [
    "np.sum(data.code.isnull())"
   ]
  },
  {
   "cell_type": "markdown",
   "metadata": {},
   "source": [
    "Добавим столбец, позволяющий идентифицировать каждый отдельный документ"
   ]
  },
  {
   "cell_type": "code",
   "execution_count": 60,
   "metadata": {},
   "outputs": [],
   "source": [
    "data['doc'] = data.date.apply(str) + data.party + data.country\n",
    "features['doc'] = data.doc"
   ]
  },
  {
   "cell_type": "markdown",
   "metadata": {},
   "source": [
    "## Обучение моделей"
   ]
  },
  {
   "cell_type": "code",
   "execution_count": 51,
   "metadata": {},
   "outputs": [],
   "source": [
    "from sklearn.svm import SVC\n",
    "from sklearn.model_selection import cross_val_score\n",
    "from sklearn.model_selection import train_test_split\n",
    "from sklearn.metrics import precision_score, recall_score, f1_score, accuracy_score\n",
    "from sklearn.metrics import make_scorer\n",
    "from sklearn.grid_search import GridSearchCV"
   ]
  },
  {
   "cell_type": "code",
   "execution_count": 25,
   "metadata": {},
   "outputs": [
    {
     "data": {
      "text/plain": [
       "(88,)"
      ]
     },
     "execution_count": 25,
     "metadata": {},
     "output_type": "execute_result"
    }
   ],
   "source": [
    "features.doc.unique().shape"
   ]
  },
  {
   "cell_type": "markdown",
   "metadata": {},
   "source": [
    "Выбор тестовых документов."
   ]
  },
  {
   "cell_type": "code",
   "execution_count": 61,
   "metadata": {},
   "outputs": [],
   "source": [
    "#germ2013 = data[(data.country=='Germany')&(data.date>201300)&(data.date<201400)]\n",
    "data2017 = data[(data.date>201700)&(data.date<201800)]\n",
    "selected = []"
   ]
  },
  {
   "cell_type": "code",
   "execution_count": 62,
   "metadata": {},
   "outputs": [
    {
     "data": {
      "text/plain": [
       "array(['201709Alliance‘90/GreensGermany', '201709The LeftGermany',\n",
       "       '201709Social Democratic Party of GermanyGermany',\n",
       "       '201709Free Democratic PartyGermany',\n",
       "       '201709Christian Democratic Union/Christian Social UnionGermany',\n",
       "       '201709Alternative for GermanyGermany'], dtype=object)"
      ]
     },
     "execution_count": 62,
     "metadata": {},
     "output_type": "execute_result"
    }
   ],
   "source": [
    "data[(data.date>201700)&(data.date<201800)].doc.unique()"
   ]
  },
  {
   "cell_type": "code",
   "execution_count": 63,
   "metadata": {},
   "outputs": [
    {
     "data": {
      "text/plain": [
       "(8663,)"
      ]
     },
     "execution_count": 63,
     "metadata": {},
     "output_type": "execute_result"
    }
   ],
   "source": [
    "data2017.doc.shape"
   ]
  },
  {
   "cell_type": "code",
   "execution_count": null,
   "metadata": {},
   "outputs": [],
   "source": [
    "\"\"\"while (np.sum(data.doc.apply(lambda x: x in selected))) < 10000:\n",
    "    selected = np.random.choice(data2017.doc.unique(), size=(6))\n",
    "    np.sum(data.doc.apply(lambda x: x in selected))\"\"\""
   ]
  },
  {
   "cell_type": "code",
   "execution_count": null,
   "metadata": {},
   "outputs": [],
   "source": [
    "#np.sum(data.doc.apply(lambda x: x in selected))"
   ]
  },
  {
   "cell_type": "code",
   "execution_count": 64,
   "metadata": {},
   "outputs": [],
   "source": [
    "data.index = range(data.shape[0])\n",
    "features.index = range(features.shape[0]);"
   ]
  },
  {
   "cell_type": "markdown",
   "metadata": {},
   "source": [
    "Разобьем выборку на тренировочную и тестовую."
   ]
  },
  {
   "cell_type": "code",
   "execution_count": 65,
   "metadata": {},
   "outputs": [
    {
     "data": {
      "text/plain": [
       "0"
      ]
     },
     "execution_count": 65,
     "metadata": {},
     "output_type": "execute_result"
    }
   ],
   "source": [
    "np.sum(features.code.isnull())"
   ]
  },
  {
   "cell_type": "code",
   "execution_count": 66,
   "metadata": {},
   "outputs": [
    {
     "data": {
      "text/plain": [
       "((8663, 56), (8663,), (104866, 56), (104866,))"
      ]
     },
     "execution_count": 66,
     "metadata": {},
     "output_type": "execute_result"
    }
   ],
   "source": [
    "test_ind = data.doc.apply(lambda x: x in data2017.doc.unique())\n",
    "y_test = features.code[test_ind]\n",
    "y_train = features.code[test_ind == False]\n",
    "X_test = features.drop(['code', 'doc'], axis=1)[test_ind]\n",
    "X_train = features.drop(['code', 'doc'], axis=1)[test_ind == False]\n",
    "X_test.shape, y_test.shape, X_train.shape, y_train.shape"
   ]
  },
  {
   "cell_type": "code",
   "execution_count": 67,
   "metadata": {},
   "outputs": [
    {
     "data": {
      "text/plain": [
       "73856    305\n",
       "73857    414\n",
       "73858    414\n",
       "73859    408\n",
       "73860    410\n",
       "73861    603\n",
       "73862    504\n",
       "73863    506\n",
       "73864    411\n",
       "73865    506\n",
       "73866    411\n",
       "73867    601\n",
       "73868    107\n",
       "73869    107\n",
       "73870    305\n",
       "73871    305\n",
       "73872    305\n",
       "73873    305\n",
       "73874    403\n",
       "73875    107\n",
       "73876    107\n",
       "73877    305\n",
       "73878    601\n",
       "73879    305\n",
       "73880    408\n",
       "73881    305\n",
       "73882    305\n",
       "73883    410\n",
       "73884    408\n",
       "73885    305\n",
       "        ... \n",
       "82489    501\n",
       "82490    501\n",
       "82491    501\n",
       "82492    501\n",
       "82493    501\n",
       "82494    703\n",
       "82495    109\n",
       "82496    303\n",
       "82497    401\n",
       "82498    501\n",
       "82499    703\n",
       "82500    703\n",
       "82501    703\n",
       "82502    703\n",
       "82503    703\n",
       "82504    301\n",
       "82505    301\n",
       "82506    110\n",
       "82507    403\n",
       "82508    403\n",
       "82509    403\n",
       "82510    403\n",
       "82511    403\n",
       "82512    703\n",
       "82513    703\n",
       "82514    703\n",
       "82515    703\n",
       "82516    303\n",
       "82517    412\n",
       "82518    412\n",
       "Name: code, Length: 8663, dtype: int64"
      ]
     },
     "execution_count": 67,
     "metadata": {},
     "output_type": "execute_result"
    }
   ],
   "source": [
    "features.code[test_ind]"
   ]
  },
  {
   "cell_type": "markdown",
   "metadata": {},
   "source": [
    "### GridSearch на SVC"
   ]
  },
  {
   "cell_type": "code",
   "execution_count": 80,
   "metadata": {},
   "outputs": [
    {
     "data": {
      "text/plain": [
       "GridSearchCV(cv=None, error_score='raise',\n",
       "       estimator=SVC(C=1.0, cache_size=200, class_weight=None, coef0=0.0,\n",
       "  decision_function_shape='ovr', degree=3, gamma='auto', kernel='rbf',\n",
       "  max_iter=-1, probability=False, random_state=None, shrinking=True,\n",
       "  tol=0.001, verbose=False),\n",
       "       fit_params={}, iid=True, n_jobs=-1,\n",
       "       param_grid={'C': [0.25, 0.5, 1, 2, 4], 'kernel': ['linear', 'rbf', 'poly']},\n",
       "       pre_dispatch='2*n_jobs', refit=True, scoring=None, verbose=0)"
      ]
     },
     "execution_count": 80,
     "metadata": {},
     "output_type": "execute_result"
    }
   ],
   "source": [
    "parameters = {\n",
    "    'C': [0.25, 0.5, 1, 2, 4],\n",
    "    'kernel': ['linear', 'rbf','poly']\n",
    "}\n",
    "svm = GridSearchCV(SVC(), parameters, n_jobs=-1)\n",
    "svm.fit(X_train, y_train)"
   ]
  },
  {
   "cell_type": "code",
   "execution_count": 81,
   "metadata": {},
   "outputs": [],
   "source": [
    "svm_pred = svm.best_estimator_.predict(X_test)"
   ]
  },
  {
   "cell_type": "code",
   "execution_count": 68,
   "metadata": {},
   "outputs": [
    {
     "data": {
      "text/plain": [
       "0.46288814498441649"
      ]
     },
     "execution_count": 68,
     "metadata": {},
     "output_type": "execute_result"
    }
   ],
   "source": [
    "f1_score(y_true=y_test, y_pred=svm_pred, average='micro')"
   ]
  },
  {
   "cell_type": "code",
   "execution_count": 95,
   "metadata": {},
   "outputs": [],
   "source": [
    "svm_pred.columns = ['code']"
   ]
  },
  {
   "cell_type": "code",
   "execution_count": 98,
   "metadata": {},
   "outputs": [],
   "source": [
    "y_test = pd.DataFrame(y_test.apply(float))"
   ]
  },
  {
   "cell_type": "code",
   "execution_count": 102,
   "metadata": {},
   "outputs": [
    {
     "data": {
      "text/plain": [
       "code    0.462888\n",
       "dtype: float64"
      ]
     },
     "execution_count": 102,
     "metadata": {},
     "output_type": "execute_result"
    }
   ],
   "source": [
    "np.sum(y_test==svm_pred) / len(y_test)"
   ]
  },
  {
   "cell_type": "code",
   "execution_count": 79,
   "metadata": {},
   "outputs": [],
   "source": [
    "y_test.index = range(len(y_test))"
   ]
  },
  {
   "cell_type": "code",
   "execution_count": 84,
   "metadata": {},
   "outputs": [],
   "source": [
    "np.savetxt('svm_stem_pred_2017.csv', svm_pred)"
   ]
  },
  {
   "cell_type": "code",
   "execution_count": 19,
   "metadata": {},
   "outputs": [],
   "source": [
    "svm_pred = pd.read_csv('svm_stem_pred_2017.csv', header=None)"
   ]
  },
  {
   "cell_type": "markdown",
   "metadata": {},
   "source": [
    "### Графики"
   ]
  },
  {
   "cell_type": "code",
   "execution_count": 156,
   "metadata": {},
   "outputs": [],
   "source": [
    "from collections import Counter\n",
    "import matplotlib.pyplot as plt"
   ]
  },
  {
   "cell_type": "markdown",
   "metadata": {},
   "source": [
    "#### SVM"
   ]
  },
  {
   "cell_type": "code",
   "execution_count": 116,
   "metadata": {},
   "outputs": [],
   "source": [
    "x = features.doc[test_ind]\n",
    "x.index = range(len(x))"
   ]
  },
  {
   "cell_type": "code",
   "execution_count": 141,
   "metadata": {},
   "outputs": [],
   "source": [
    "plt.show()"
   ]
  },
  {
   "cell_type": "code",
   "execution_count": 120,
   "metadata": {},
   "outputs": [],
   "source": [
    "svm_pred['doc'] = x\n",
    "y_test['doc'] = x\n",
    "pc = []\n",
    "yc = []\n",
    "for i in data.doc.unique():\n",
    "    for j in data.code.unique():\n",
    "        pc.append(svm_pred[(svm_pred.doc==i)&(svm_pred.code==j)].shape[0])\n",
    "        yc.append(y_test[(y_test.doc==i)&(y_test.code==j)].shape[0])"
   ]
  },
  {
   "cell_type": "code",
   "execution_count": 157,
   "metadata": {},
   "outputs": [
    {
     "data": {
      "text/plain": [
       "Text(0.5,1,'ff')"
      ]
     },
     "execution_count": 157,
     "metadata": {},
     "output_type": "execute_result"
    },
    {
     "data": {
      "image/png": "[encoded data removed]",
      "text/plain": [
       "<Figure size 432x288 with 1 Axes>"
      ]
     },
     "metadata": {},
     "output_type": "display_data"
    }
   ],
   "source": [
    "plt.scatter(x=np.array(pc), y=np.array(yc))\n",
    "plt.title('x - computer-annotated')"
   ]
  },
  {
   "cell_type": "markdown",
   "metadata": {},
   "source": [
    "Оценим среднеквадратичное отклонение наших предсказаний от фактических значений. Посчитаем корреляцию между ними."
   ]
  },
  {
   "cell_type": "code",
   "execution_count": 88,
   "metadata": {},
   "outputs": [],
   "source": [
    "from sklearn.metrics import mean_squared_error"
   ]
  },
  {
   "cell_type": "code",
   "execution_count": 89,
   "metadata": {},
   "outputs": [
    {
     "data": {
      "text/plain": [
       "26.279626623376622"
      ]
     },
     "execution_count": 89,
     "metadata": {},
     "output_type": "execute_result"
    }
   ],
   "source": [
    "mean_squared_error(y_pred=pc, y_true=yc)"
   ]
  },
  {
   "cell_type": "code",
   "execution_count": 90,
   "metadata": {},
   "outputs": [
    {
     "data": {
      "text/plain": [
       "0    0.919148\n",
       "dtype: float64"
      ]
     },
     "execution_count": 90,
     "metadata": {},
     "output_type": "execute_result"
    }
   ],
   "source": [
    "pd.DataFrame(pc).corrwith(pd.DataFrame(yc))"
   ]
  }
 ],
 "metadata": {
  "kernelspec": {
   "display_name": "Python 3",
   "language": "python",
   "name": "python3"
  },
  "language_info": {
   "codemirror_mode": {
    "name": "ipython",
    "version": 3
   },
   "file_extension": ".py",
   "mimetype": "text/x-python",
   "name": "python",
   "nbconvert_exporter": "python",
   "pygments_lexer": "ipython3",
   "version": "3.6.5"
  }
 },
 "nbformat": 4,
 "nbformat_minor": 2
}
